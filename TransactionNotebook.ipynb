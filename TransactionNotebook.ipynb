{
 "cells": [
  {
   "cell_type": "markdown",
   "id": "5e521ec0",
   "metadata": {},
   "source": [
    "Importing the packages I plan on using, reading in the data and taking a quick look at what we're working with."
   ]
  },
  {
   "cell_type": "code",
   "execution_count": 294,
   "id": "b06a62df",
   "metadata": {},
   "outputs": [],
   "source": [
    "import pandas as pd                       \n",
    "import numpy as np                        \n",
    "import matplotlib.pyplot as plt\n",
    "from datetime import datetime         "
   ]
  },
  {
   "cell_type": "code",
   "execution_count": 463,
   "id": "cb64c7b5",
   "metadata": {},
   "outputs": [],
   "source": [
    "df = pd.read_csv(\"transactions.csv\") "
   ]
  },
  {
   "cell_type": "code",
   "execution_count": 464,
   "id": "c31789ee",
   "metadata": {
    "scrolled": true
   },
   "outputs": [
    {
     "name": "stdout",
     "output_type": "stream",
     "text": [
      "<class 'pandas.core.frame.DataFrame'>\n",
      "RangeIndex: 1578 entries, 0 to 1577\n",
      "Data columns (total 6 columns):\n",
      " #   Column            Non-Null Count  Dtype \n",
      "---  ------            --------------  ----- \n",
      " 0   amount            1578 non-null   int64 \n",
      " 1   account_id        1578 non-null   object\n",
      " 2   memo              1578 non-null   object\n",
      " 3   transaction_date  1578 non-null   object\n",
      " 4   processed_Memo    1577 non-null   object\n",
      " 5   name              1578 non-null   object\n",
      "dtypes: int64(1), object(5)\n",
      "memory usage: 74.1+ KB\n"
     ]
    },
    {
     "data": {
      "text/html": [
       "<div>\n",
       "<style scoped>\n",
       "    .dataframe tbody tr th:only-of-type {\n",
       "        vertical-align: middle;\n",
       "    }\n",
       "\n",
       "    .dataframe tbody tr th {\n",
       "        vertical-align: top;\n",
       "    }\n",
       "\n",
       "    .dataframe thead th {\n",
       "        text-align: right;\n",
       "    }\n",
       "</style>\n",
       "<table border=\"1\" class=\"dataframe\">\n",
       "  <thead>\n",
       "    <tr style=\"text-align: right;\">\n",
       "      <th></th>\n",
       "      <th>amount</th>\n",
       "      <th>account_id</th>\n",
       "      <th>memo</th>\n",
       "      <th>transaction_date</th>\n",
       "      <th>processed_Memo</th>\n",
       "      <th>name</th>\n",
       "    </tr>\n",
       "  </thead>\n",
       "  <tbody>\n",
       "    <tr>\n",
       "      <th>1573</th>\n",
       "      <td>165000</td>\n",
       "      <td>veLzM9wv48T4N5kZrZNPc9jvrAZY8acmo8YKJ</td>\n",
       "      <td>WWW TRF DDA - 9691</td>\n",
       "      <td>2018-05-04 00:00:00</td>\n",
       "      <td>www trf dda</td>\n",
       "      <td>savings</td>\n",
       "    </tr>\n",
       "    <tr>\n",
       "      <th>1574</th>\n",
       "      <td>-30000</td>\n",
       "      <td>qeJzM5Q3A8TNgwje8eg7tz1ogLXPbEtJekx9x</td>\n",
       "      <td>INTERAC E-TRF- 6036</td>\n",
       "      <td>2018-05-03 00:00:00</td>\n",
       "      <td>interac e trf</td>\n",
       "      <td>checking</td>\n",
       "    </tr>\n",
       "    <tr>\n",
       "      <th>1575</th>\n",
       "      <td>-120000</td>\n",
       "      <td>qeJzM5Q3A8TNgwje8eg7tz1ogLXPbEtJekx9x</td>\n",
       "      <td>INTERAC E-TRF- 9223</td>\n",
       "      <td>2018-05-03 00:00:00</td>\n",
       "      <td>interac e trf</td>\n",
       "      <td>checking</td>\n",
       "    </tr>\n",
       "    <tr>\n",
       "      <th>1576</th>\n",
       "      <td>1370</td>\n",
       "      <td>qeJzM5Q3A8TNgwje8eg7tz1ogLXPbEtJekx9x</td>\n",
       "      <td>C-IDP PURCHASE-9989 -SHELL C02573</td>\n",
       "      <td>2018-05-03 00:00:00</td>\n",
       "      <td>c idp purchase shell c</td>\n",
       "      <td>checking</td>\n",
       "    </tr>\n",
       "    <tr>\n",
       "      <th>1577</th>\n",
       "      <td>-100000</td>\n",
       "      <td>qeJzM5Q3A8TNgwje8eg7tz1ogLXPbEtJekx9x</td>\n",
       "      <td>INTERAC E-TRF- 4919</td>\n",
       "      <td>2018-05-03 00:00:00</td>\n",
       "      <td>interac e trf</td>\n",
       "      <td>checking</td>\n",
       "    </tr>\n",
       "  </tbody>\n",
       "</table>\n",
       "</div>"
      ],
      "text/plain": [
       "      amount                             account_id  \\\n",
       "1573  165000  veLzM9wv48T4N5kZrZNPc9jvrAZY8acmo8YKJ   \n",
       "1574  -30000  qeJzM5Q3A8TNgwje8eg7tz1ogLXPbEtJekx9x   \n",
       "1575 -120000  qeJzM5Q3A8TNgwje8eg7tz1ogLXPbEtJekx9x   \n",
       "1576    1370  qeJzM5Q3A8TNgwje8eg7tz1ogLXPbEtJekx9x   \n",
       "1577 -100000  qeJzM5Q3A8TNgwje8eg7tz1ogLXPbEtJekx9x   \n",
       "\n",
       "                                   memo     transaction_date  \\\n",
       "1573                 WWW TRF DDA - 9691  2018-05-04 00:00:00   \n",
       "1574                INTERAC E-TRF- 6036  2018-05-03 00:00:00   \n",
       "1575                INTERAC E-TRF- 9223  2018-05-03 00:00:00   \n",
       "1576  C-IDP PURCHASE-9989 -SHELL C02573  2018-05-03 00:00:00   \n",
       "1577                INTERAC E-TRF- 4919  2018-05-03 00:00:00   \n",
       "\n",
       "              processed_Memo      name  \n",
       "1573             www trf dda   savings  \n",
       "1574           interac e trf  checking  \n",
       "1575           interac e trf  checking  \n",
       "1576  c idp purchase shell c  checking  \n",
       "1577           interac e trf  checking  "
      ]
     },
     "execution_count": 464,
     "metadata": {},
     "output_type": "execute_result"
    }
   ],
   "source": [
    "df.info()\n",
    "df.tail()"
   ]
  },
  {
   "cell_type": "markdown",
   "id": "b10673ef",
   "metadata": {},
   "source": [
    "Before getting started I just want to plot the income amounts to see what they look like over time."
   ]
  },
  {
   "cell_type": "code",
   "execution_count": 469,
   "id": "0a4404d1",
   "metadata": {},
   "outputs": [
    {
     "data": {
      "image/png": "[encoded data removed]",
      "text/plain": [
       "<Figure size 432x288 with 1 Axes>"
      ]
     },
     "metadata": {
      "needs_background": "light"
     },
     "output_type": "display_data"
    }
   ],
   "source": [
    "plt.bar(df.transaction_date, df.amount*1/100) # dividing by 100 to get $ amount\n",
    "plt.xlabel('Date Year-Month')\n",
    "plt.ylabel('Cash Flow in $')\n",
    "plt.xticks(rotation=90);"
   ]
  },
  {
   "cell_type": "markdown",
   "id": "ad0729f3",
   "metadata": {},
   "source": [
    "Right off the start it does look like there are some consisistent negative (income) spikes occuring bi-weekly. Let's take a closer look at the income sources by first filter out any positive amount values in the account and then using value counts."
   ]
  },
  {
   "cell_type": "code",
   "execution_count": 449,
   "id": "21085299",
   "metadata": {
    "scrolled": true
   },
   "outputs": [
    {
     "data": {
      "text/plain": [
       "PAYMENT - THANK YOU / PAIEMENT - MERCI    53\n",
       "DEPOSIT INTEREST                          30\n",
       "PAYROLL DEPOSIT -IDS MANAGEMENT           16\n",
       "INSURANCE -RBC INSURANCE:                  5\n",
       "TF 3367#3978-557                           2\n",
       "                                          ..\n",
       "WWW TRANSFER - 1013                        1\n",
       "WWW TRANSFER - 5545                        1\n",
       "INTERAC E-TRF- 2871                        1\n",
       "WWW TRANSFER - 8347                        1\n",
       "WWW TRANSFER - 7084                        1\n",
       "Name: memo, Length: 441, dtype: int64"
      ]
     },
     "execution_count": 449,
     "metadata": {},
     "output_type": "execute_result"
    }
   ],
   "source": [
    "df_neg = df.loc[(df['amount'] < 0),['amount', 'memo','transaction_date']]\n",
    "pd.value_counts(df_neg.memo)"
   ]
  },
  {
   "cell_type": "markdown",
   "id": "82ab52df",
   "metadata": {},
   "source": [
    "The first thing that has to be removed are credit card payments, WWW also indicates a trasnfer between two personal account so those can be removed as well. RBC insurance does not sound like an income either, so those transactions will not be considered income. Let's remove these rows and add another date column which does not include the date. This will allow us to group incomes by month and year which will aid in the calculation of monthly income."
   ]
  },
  {
   "cell_type": "code",
   "execution_count": 420,
   "id": "d0d96ea5",
   "metadata": {
    "scrolled": true
   },
   "outputs": [],
   "source": [
    "df = df[df.name != \"credit card\"]"
   ]
  },
  {
   "cell_type": "code",
   "execution_count": 421,
   "id": "f76e3f5a",
   "metadata": {},
   "outputs": [],
   "source": [
    "df['transaction_date'] = pd.to_datetime(df['transaction_date']) \n",
    "df['year_month'] = df['transaction_date'].dt.strftime('%Y-%m') \n",
    "df['day'] = df['transaction_date'].dt.strftime('%d')\n",
    "df = df[~df['memo'].str.contains(\"WWW \")] \n",
    "df = df[~df['memo'].str.contains(\"RBC\")]"
   ]
  },
  {
   "cell_type": "markdown",
   "id": "1b375ccb",
   "metadata": {},
   "source": [
    "Lets created a new data frame that consists of only the incomes by filtering out the expenses and includes our income amount, memo, and a variety of dates."
   ]
  },
  {
   "cell_type": "code",
   "execution_count": 422,
   "id": "12d82f80",
   "metadata": {},
   "outputs": [],
   "source": [
    "income = df.loc[(df['amount'] < 0),['amount', 'memo','transaction_date','year_month','day']] # filter out expenses"
   ]
  },
  {
   "cell_type": "markdown",
   "id": "ccda9939",
   "metadata": {},
   "source": [
    "Now that the expenses have been roemoved, we can look into the income sources. The first thing I'd look to do is sort the transactions by their day of the month so that we can see which days the majority of the income flows into their accounts which will give us a good idea of the pay cycle."
   ]
  },
  {
   "cell_type": "code",
   "execution_count": 423,
   "id": "63ec518a",
   "metadata": {},
   "outputs": [],
   "source": [
    "daily_sorted = income.sort_values('day')"
   ]
  },
  {
   "cell_type": "code",
   "execution_count": 424,
   "id": "b8b056d2",
   "metadata": {
    "scrolled": true
   },
   "outputs": [
    {
     "data": {
      "image/png": "[encoded data removed]",
      "text/plain": [
       "<Figure size 432x288 with 1 Axes>"
      ]
     },
     "metadata": {
      "needs_background": "light"
     },
     "output_type": "display_data"
    }
   ],
   "source": [
    "plt.bar(daily_sorted.day, daily_sorted.amount*-1/100) # switching the sign and getting $ amount\n",
    "plt.xlabel('Day of the month')\n",
    "plt.ylabel('Income in $')\n",
    "plt.xticks(fontsize=8);"
   ]
  },
  {
   "cell_type": "markdown",
   "id": "f5cffb40",
   "metadata": {},
   "source": [
    "By looking at the peaks and troughs of the bar plot, we can see that most income flows into the account at the middle of the month and at the end of the month. This suggests that there is a bi-weekly pay schedule. Lets take a look at memos labeled PAYROLL only, as these incomes should be consistent considering they are likely coming from an employer."
   ]
  },
  {
   "cell_type": "code",
   "execution_count": 425,
   "id": "d90e3fdc",
   "metadata": {},
   "outputs": [
    {
     "data": {
      "image/png": "[encoded data removed]",
      "text/plain": [
       "<Figure size 432x288 with 1 Axes>"
      ]
     },
     "metadata": {
      "needs_background": "light"
     },
     "output_type": "display_data"
    }
   ],
   "source": [
    "payroll_income = df.loc[(df['memo'].str.contains('PAYROLL')),['amount','memo','transaction_date','year_month','day']]\n",
    "plt.scatter(payroll_income.year_month, payroll_income.amount*-1/100)\n",
    "plt.xlabel('Date Year-Month')\n",
    "plt.ylabel('Income in $')\n",
    "plt.xticks(rotation=90);"
   ]
  },
  {
   "cell_type": "markdown",
   "id": "4e8e4a7a",
   "metadata": {},
   "source": [
    "The scatter plot above clearly indicates that at least their payroll deposites are on a bi-weekly pay cycle. Perhaps mony flowing into their acount beneath some threshhold amount should be filtered out and not considered as income. This would clearly define the peaks and troughs of the bar plot and provide further evidence of the pay cycle. For now, lets consider everything in the barplot above to be income and from here we'll look at their total monthly income, although there may be some false incomes include in the transactions."
   ]
  },
  {
   "cell_type": "code",
   "execution_count": 426,
   "id": "0bae80e4",
   "metadata": {
    "scrolled": true
   },
   "outputs": [
    {
     "data": {
      "image/png": "[encoded data removed]",
      "text/plain": [
       "<Figure size 432x288 with 1 Axes>"
      ]
     },
     "metadata": {
      "needs_background": "light"
     },
     "output_type": "display_data"
    }
   ],
   "source": [
    "monthly_income = income.groupby('year_month')['amount'].sum().reset_index(name = 'month_total') # group by months\n",
    "plt.bar(monthly_income.year_month, monthly_income.month_total*-1/100)\n",
    "plt.xlabel('Date Year-Month')\n",
    "plt.ylabel('Monthly Income in $')\n",
    "plt.xticks(rotation=90);"
   ]
  },
  {
   "cell_type": "markdown",
   "id": "f6266e58",
   "metadata": {},
   "source": [
    "Now we can see the total income per month. But lets try to filter the income a little more by looking at the unique value counts of the memo column. For this, I'm going to apply `pd.value_counts` to the memo column within the income data frame."
   ]
  },
  {
   "cell_type": "code",
   "execution_count": 427,
   "id": "bec4f42f",
   "metadata": {
    "scrolled": false
   },
   "outputs": [
    {
     "data": {
      "text/plain": [
       "DEPOSIT INTEREST                                 30\n",
       "PAYROLL DEPOSIT -IDS MANAGEMENT                  16\n",
       "TF 3367#3978-557                                  2\n",
       "TF 0000000022180695424                            2\n",
       "INTERAC E-TRF- 4911                               1\n",
       "                                                 ..\n",
       "WWW3RD PTY DEP-0569                               1\n",
       "INTERAC E-TRF- 4919                               1\n",
       "INTERAC E-TRF- 2602                               1\n",
       "WWW3RD PTY DEP-0490                               1\n",
       "INTERAC E-TRANSFER RECEIVED 2018174141652E98B     1\n",
       "Name: memo, Length: 203, dtype: int64"
      ]
     },
     "execution_count": 427,
     "metadata": {},
     "output_type": "execute_result"
    }
   ],
   "source": [
    "pd.value_counts(income.memo)"
   ]
  },
  {
   "cell_type": "markdown",
   "id": "7b4958ab",
   "metadata": {},
   "source": [
    "Ok, that didn't work great. It looks like there are a lot of unique IDs at the end of Interac and 3rd party transation deposits. Lets remove the remainder of the string following \"INTERAC\" and following \"WWW3RD\"."
   ]
  },
  {
   "cell_type": "code",
   "execution_count": 429,
   "id": "7b5b2f75",
   "metadata": {},
   "outputs": [
    {
     "data": {
      "text/plain": [
       "INTERAC                                                    96\n",
       "WWW3RD                                                     76\n",
       "DEPOSIT INTEREST                                           30\n",
       "PAYROLL DEPOSIT -IDS MANAGEMENT                            16\n",
       "TF 0000000022180695424                                      2\n",
       "TF 3367#3978-557                                            2\n",
       "MOBILE DEP- 0665                                            1\n",
       "MOBILE DEP- 8322                                            1\n",
       "MOBILE DEP- 5130                                            1\n",
       "MOBILE DEP- 5378                                            1\n",
       "MOBILE DEP- 5296                                            1\n",
       "MOBILE DEP- 1154                                            1\n",
       "INT E-TRF CAN- 7481                                         1\n",
       "PTB DEP -- TX606941                                         1\n",
       "MOBILE DEP- 8885                                            1\n",
       "MISC PAYMENT - TRANSFERWISE                                 1\n",
       "INT E-TRF CAN- 8734                                         1\n",
       "HST.13 X $3000.00                                           1\n",
       "MOBILE DEP- 8133                                            1\n",
       "PTB DEP -- TX604692                                         1\n",
       "Best Buy                                                    1\n",
       "MOBILE DEP- 3713                                            1\n",
       "MOBILE DEP- 3769                                            1\n",
       "MOBILE DEP- 8251                                            1\n",
       "MOBILE DEP- 6975                                            1\n",
       "MOBILE DEP- 8061                                            1\n",
       "INT E-TRF CAN- 5763                                         1\n",
       "PTB DEP -- TX606502                                         1\n",
       "PTB DEP -- TX607616                                         1\n",
       "INT E-TRF CAN- 6588                                         1\n",
       "PTB DEP -- TX608363                                         1\n",
       "PTB DEP -- TZ439223                                         1\n",
       "BR.2692 REIMBURSEMENT OF REVIEW FEE 20/06/18 OP81, SEQ4     1\n",
       "Name: memo, dtype: int64"
      ]
     },
     "execution_count": 429,
     "metadata": {},
     "output_type": "execute_result"
    }
   ],
   "source": [
    "income.loc[income['memo'].str.contains('INTERAC '), 'memo'] = 'INTERAC'\n",
    "income.loc[income['memo'].str.contains('WWW3RD '), 'memo'] = 'WWW3RD'\n",
    "pd.value_counts(income.memo)"
   ]
  },
  {
   "cell_type": "markdown",
   "id": "cd4e1bd8",
   "metadata": {},
   "source": [
    "That's better. I believe it's safe to say that everything with one inflow to the account throughout the 8 months of data would not be considered income. Let's remove those rows."
   ]
  },
  {
   "cell_type": "code",
   "execution_count": 430,
   "id": "ecc1d348",
   "metadata": {},
   "outputs": [
    {
     "data": {
      "text/plain": [
       "INTERAC                            96\n",
       "WWW3RD                             76\n",
       "DEPOSIT INTEREST                   30\n",
       "PAYROLL DEPOSIT -IDS MANAGEMENT    16\n",
       "TF 3367#3978-557                    2\n",
       "TF 0000000022180695424              2\n",
       "Name: memo, dtype: int64"
      ]
     },
     "execution_count": 430,
     "metadata": {},
     "output_type": "execute_result"
    }
   ],
   "source": [
    "sub_df = income[income.groupby('memo').memo.transform('count')>1].copy() \n",
    "pd.value_counts(sub_df.memo)"
   ]
  },
  {
   "cell_type": "markdown",
   "id": "fc2f03bf",
   "metadata": {},
   "source": [
    "Ok, that looks cleaner now. They receive a total of 96 e-transfers over the span of 8 months, so perhaps they collect rent from 12 tenants which are supposed to follow a strict pay cycle, but that cycle may vary. They also receive several inflows of money from a 3rd party of some sort along with their payroll. Finally, deposit interest, and the 4 TF transactions may have to be removed as they're looking a little suspicious as far as income goes. Let's see what the pay cycle box plot looks like and go from there."
   ]
  },
  {
   "cell_type": "code",
   "execution_count": 431,
   "id": "fb3c4bb9",
   "metadata": {},
   "outputs": [
    {
     "data": {
      "image/png": "[encoded data removed]",
      "text/plain": [
       "<Figure size 432x288 with 1 Axes>"
      ]
     },
     "metadata": {
      "needs_background": "light"
     },
     "output_type": "display_data"
    }
   ],
   "source": [
    "daily_reduced = sub_df.sort_values('day')\n",
    "plt.bar(daily_reduced.day, daily_reduced.amount*-1/100)\n",
    "plt.xlabel('Day of the month')\n",
    "plt.ylabel('Income in $')\n",
    "plt.xticks(fontsize=8);"
   ]
  },
  {
   "cell_type": "markdown",
   "id": "0d1e26fe",
   "metadata": {},
   "source": [
    "Getting better for sure. Clear peaks in the bar plot at mid-month and end-month which further suggests a bi-weekly pay cycle. Let's remove the final odds and ends, then create another bar plot and finally looks at the monthly income."
   ]
  },
  {
   "cell_type": "code",
   "execution_count": 432,
   "id": "8803fe84",
   "metadata": {},
   "outputs": [],
   "source": [
    "sub_df = income[income.groupby('memo').memo.transform('count')>2].copy() "
   ]
  },
  {
   "cell_type": "code",
   "execution_count": 433,
   "id": "2de1c8a2",
   "metadata": {
    "scrolled": true
   },
   "outputs": [
    {
     "data": {
      "text/plain": [
       "INTERAC                            96\n",
       "WWW3RD                             76\n",
       "PAYROLL DEPOSIT -IDS MANAGEMENT    16\n",
       "Name: memo, dtype: int64"
      ]
     },
     "execution_count": 433,
     "metadata": {},
     "output_type": "execute_result"
    }
   ],
   "source": [
    "sub_df = sub_df[~sub_df['memo'].str.contains(\"INTEREST\")]\n",
    "pd.value_counts(sub_df.memo)"
   ]
  },
  {
   "cell_type": "markdown",
   "id": "101f20b2",
   "metadata": {},
   "source": [
    "Let's look at the pay cycle bar plot now that we have narrowed it down to 3 income sources."
   ]
  },
  {
   "cell_type": "code",
   "execution_count": 434,
   "id": "2d0b44e1",
   "metadata": {
    "scrolled": true
   },
   "outputs": [
    {
     "data": {
      "image/png": "[encoded data removed]",
      "text/plain": [
       "<Figure size 432x288 with 1 Axes>"
      ]
     },
     "metadata": {
      "needs_background": "light"
     },
     "output_type": "display_data"
    }
   ],
   "source": [
    "daily_reduced = sub_df.sort_values('day')\n",
    "plt.bar(daily_reduced.day, daily_reduced.amount*-1/100)\n",
    "plt.xlabel('Day of the month')\n",
    "plt.ylabel('Income in $')\n",
    "plt.xticks(fontsize=8);"
   ]
  },
  {
   "cell_type": "markdown",
   "id": "4915ae23",
   "metadata": {},
   "source": [
    "The peaks at mid-month and end-month are much more clearly defined. There also seems to be a substantial amount of income in the first few days of each month, this could be rental income. Lets look at the value counts of days on the \"INTERAC\" labels. This should provide us with a better understanding of the popular days which they receive e-transfers and perhaps suggest a pay cycle."
   ]
  },
  {
   "cell_type": "code",
   "execution_count": 435,
   "id": "f8760980",
   "metadata": {
    "scrolled": true
   },
   "outputs": [
    {
     "data": {
      "text/plain": [
       "03    16\n",
       "04     9\n",
       "01     7\n",
       "16     6\n",
       "25     6\n",
       "29     5\n",
       "18     5\n",
       "09     4\n",
       "13     4\n",
       "06     4\n",
       "10     3\n",
       "07     3\n",
       "14     3\n",
       "17     3\n",
       "31     3\n",
       "30     2\n",
       "21     2\n",
       "19     2\n",
       "24     2\n",
       "15     2\n",
       "23     1\n",
       "02     1\n",
       "12     1\n",
       "05     1\n",
       "28     1\n",
       "Name: day, dtype: int64"
      ]
     },
     "execution_count": 435,
     "metadata": {},
     "output_type": "execute_result"
    }
   ],
   "source": [
    "interac_income = income.loc[(df['memo'].str.contains('INTERAC')),['amount','memo','transaction_date','year_month','day']]\n",
    "pd.value_counts(interac_income.day)"
   ]
  },
  {
   "cell_type": "markdown",
   "id": "5a342058",
   "metadata": {},
   "source": [
    "The first fews day of the month are popular, maybe they collect rent at the begining of the month and all of the rows that contain an e-transfer after the 5th day should be removed and not considered as income. For now I'm going to look at the monthly income for what we've filtered it down to at this point."
   ]
  },
  {
   "cell_type": "code",
   "execution_count": 436,
   "id": "603ba7d8",
   "metadata": {},
   "outputs": [],
   "source": [
    "reduce_month = sub_df.groupby('year_month')['amount'].sum().reset_index(name = 'month_total')"
   ]
  },
  {
   "cell_type": "code",
   "execution_count": 439,
   "id": "255fa509",
   "metadata": {
    "scrolled": true
   },
   "outputs": [
    {
     "data": {
      "image/png": "[encoded data removed]",
      "text/plain": [
       "<Figure size 432x288 with 1 Axes>"
      ]
     },
     "metadata": {
      "needs_background": "light"
     },
     "output_type": "display_data"
    }
   ],
   "source": [
    "plt.bar(reduce_month.year_month, reduce_month.month_total*-1/100)\n",
    "plt.xlabel('Date Year-Month')\n",
    "plt.ylabel('Monthly Income in $')\n",
    "plt.xticks(rotation=90);"
   ]
  },
  {
   "cell_type": "markdown",
   "id": "3042e24a",
   "metadata": {},
   "source": [
    "So their monthly income has definetly decreased after removing a lot of the \"junk\", although I think there is still more that could be removed."
   ]
  },
  {
   "cell_type": "markdown",
   "id": "f710b4b0",
   "metadata": {},
   "source": [
    "I planned on using the fuzzywuzzy package to replace similar strings mor efficiently which would allow me to distiguish the number of unique income sources much faster and categroize them, then look for pay cycles within each category. If an income in this sorted transaction dataframe looked like a one time income (non-repeating), or looked like a small amount (perhaps an e-transfer from a friend), then I would not include said observation. This would not only produce a more accurate total monthly income, but it would also outline the pay cycle more clearly as the bar plot that I created above is not quite obvious other than some large incomes at the begining which I believe could be rental income and then there are the mid-month and end-month incomes. Had I not been commited to my current job throughout the day, I would've like to implement this."
   ]
  },
  {
   "cell_type": "markdown",
   "id": "7d167519",
   "metadata": {},
   "source": [
    "If you've made this far, I appreciate the opportunity and I hope that you like that work that I've done!"
   ]
  }
 ],
 "metadata": {
  "kernelspec": {
   "display_name": "Python 3",
   "language": "python",
   "name": "python3"
  },
  "language_info": {
   "codemirror_mode": {
    "name": "ipython",
    "version": 3
   },
   "file_extension": ".py",
   "mimetype": "text/x-python",
   "name": "python",
   "nbconvert_exporter": "python",
   "pygments_lexer": "ipython3",
   "version": "3.8.8"
  }
 },
 "nbformat": 4,
 "nbformat_minor": 5
}
